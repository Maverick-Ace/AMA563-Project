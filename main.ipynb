{
 "cells": [
  {
   "cell_type": "markdown",
   "metadata": {},
   "source": [
    "### 基础库导入"
   ]
  },
  {
   "cell_type": "code",
   "execution_count": 2,
   "metadata": {},
   "outputs": [
    {
     "name": "stderr",
     "output_type": "stream",
     "text": [
      "\n",
      "A module that was compiled using NumPy 1.x cannot be run in\n",
      "NumPy 2.1.2 as it may crash. To support both 1.x and 2.x\n",
      "versions of NumPy, modules must be compiled with NumPy 2.0.\n",
      "Some module may need to rebuild instead e.g. with 'pybind11>=2.12'.\n",
      "\n",
      "If you are a user of the module, the easiest solution will be to\n",
      "downgrade to 'numpy<2' or try to upgrade the affected module.\n",
      "We expect that some modules will need time to support NumPy 2.\n",
      "\n",
      "Traceback (most recent call last):  File \"d:\\BrainC\\brainc_env\\lib\\runpy.py\", line 196, in _run_module_as_main\n",
      "    return _run_code(code, main_globals, None,\n",
      "  File \"d:\\BrainC\\brainc_env\\lib\\runpy.py\", line 86, in _run_code\n",
      "    exec(code, run_globals)\n",
      "  File \"d:\\BrainC\\brainc_env\\lib\\site-packages\\ipykernel_launcher.py\", line 18, in <module>\n",
      "    app.launch_new_instance()\n",
      "  File \"d:\\BrainC\\brainc_env\\lib\\site-packages\\traitlets\\config\\application.py\", line 1075, in launch_instance\n",
      "    app.start()\n",
      "  File \"d:\\BrainC\\brainc_env\\lib\\site-packages\\ipykernel\\kernelapp.py\", line 739, in start\n",
      "    self.io_loop.start()\n",
      "  File \"d:\\BrainC\\brainc_env\\lib\\site-packages\\tornado\\platform\\asyncio.py\", line 215, in start\n",
      "    self.asyncio_loop.run_forever()\n",
      "  File \"d:\\BrainC\\brainc_env\\lib\\asyncio\\base_events.py\", line 603, in run_forever\n",
      "    self._run_once()\n",
      "  File \"d:\\BrainC\\brainc_env\\lib\\asyncio\\base_events.py\", line 1909, in _run_once\n",
      "    handle._run()\n",
      "  File \"d:\\BrainC\\brainc_env\\lib\\asyncio\\events.py\", line 80, in _run\n",
      "    self._context.run(self._callback, *self._args)\n",
      "  File \"d:\\BrainC\\brainc_env\\lib\\site-packages\\ipykernel\\kernelbase.py\", line 545, in dispatch_queue\n",
      "    await self.process_one()\n",
      "  File \"d:\\BrainC\\brainc_env\\lib\\site-packages\\ipykernel\\kernelbase.py\", line 534, in process_one\n",
      "    await dispatch(*args)\n",
      "  File \"d:\\BrainC\\brainc_env\\lib\\site-packages\\ipykernel\\kernelbase.py\", line 437, in dispatch_shell\n",
      "    await result\n",
      "  File \"d:\\BrainC\\brainc_env\\lib\\site-packages\\ipykernel\\ipkernel.py\", line 362, in execute_request\n",
      "    await super().execute_request(stream, ident, parent)\n",
      "  File \"d:\\BrainC\\brainc_env\\lib\\site-packages\\ipykernel\\kernelbase.py\", line 778, in execute_request\n",
      "    reply_content = await reply_content\n",
      "  File \"d:\\BrainC\\brainc_env\\lib\\site-packages\\ipykernel\\ipkernel.py\", line 449, in do_execute\n",
      "    res = shell.run_cell(\n",
      "  File \"d:\\BrainC\\brainc_env\\lib\\site-packages\\ipykernel\\zmqshell.py\", line 549, in run_cell\n",
      "    return super().run_cell(*args, **kwargs)\n",
      "  File \"d:\\BrainC\\brainc_env\\lib\\site-packages\\IPython\\core\\interactiveshell.py\", line 3075, in run_cell\n",
      "    result = self._run_cell(\n",
      "  File \"d:\\BrainC\\brainc_env\\lib\\site-packages\\IPython\\core\\interactiveshell.py\", line 3130, in _run_cell\n",
      "    result = runner(coro)\n",
      "  File \"d:\\BrainC\\brainc_env\\lib\\site-packages\\IPython\\core\\async_helpers.py\", line 128, in _pseudo_sync_runner\n",
      "    coro.send(None)\n",
      "  File \"d:\\BrainC\\brainc_env\\lib\\site-packages\\IPython\\core\\interactiveshell.py\", line 3334, in run_cell_async\n",
      "    has_raised = await self.run_ast_nodes(code_ast.body, cell_name,\n",
      "  File \"d:\\BrainC\\brainc_env\\lib\\site-packages\\IPython\\core\\interactiveshell.py\", line 3517, in run_ast_nodes\n",
      "    if await self.run_code(code, result, async_=asy):\n",
      "  File \"d:\\BrainC\\brainc_env\\lib\\site-packages\\IPython\\core\\interactiveshell.py\", line 3577, in run_code\n",
      "    exec(code_obj, self.user_global_ns, self.user_ns)\n",
      "  File \"C:\\Users\\asus\\AppData\\Local\\Temp\\ipykernel_17512\\2992325613.py\", line 4, in <module>\n",
      "    import pandas as pd\n",
      "  File \"C:\\Users\\asus\\AppData\\Roaming\\Python\\Python310\\site-packages\\pandas\\__init__.py\", line 62, in <module>\n",
      "    from pandas.core.api import (\n",
      "  File \"C:\\Users\\asus\\AppData\\Roaming\\Python\\Python310\\site-packages\\pandas\\core\\api.py\", line 28, in <module>\n",
      "    from pandas.core.arrays import Categorical\n",
      "  File \"C:\\Users\\asus\\AppData\\Roaming\\Python\\Python310\\site-packages\\pandas\\core\\arrays\\__init__.py\", line 1, in <module>\n",
      "    from pandas.core.arrays.arrow import ArrowExtensionArray\n",
      "  File \"C:\\Users\\asus\\AppData\\Roaming\\Python\\Python310\\site-packages\\pandas\\core\\arrays\\arrow\\__init__.py\", line 5, in <module>\n",
      "    from pandas.core.arrays.arrow.array import ArrowExtensionArray\n",
      "  File \"C:\\Users\\asus\\AppData\\Roaming\\Python\\Python310\\site-packages\\pandas\\core\\arrays\\arrow\\array.py\", line 64, in <module>\n",
      "    from pandas.core.arrays.masked import BaseMaskedArray\n",
      "  File \"C:\\Users\\asus\\AppData\\Roaming\\Python\\Python310\\site-packages\\pandas\\core\\arrays\\masked.py\", line 60, in <module>\n",
      "    from pandas.core import (\n",
      "  File \"C:\\Users\\asus\\AppData\\Roaming\\Python\\Python310\\site-packages\\pandas\\core\\nanops.py\", line 52, in <module>\n",
      "    bn = import_optional_dependency(\"bottleneck\", errors=\"warn\")\n",
      "  File \"C:\\Users\\asus\\AppData\\Roaming\\Python\\Python310\\site-packages\\pandas\\compat\\_optional.py\", line 135, in import_optional_dependency\n",
      "    module = importlib.import_module(name)\n",
      "  File \"d:\\BrainC\\brainc_env\\lib\\importlib\\__init__.py\", line 126, in import_module\n",
      "    return _bootstrap._gcd_import(name[level:], package, level)\n",
      "  File \"d:\\BrainC\\brainc_env\\lib\\site-packages\\bottleneck\\__init__.py\", line 7, in <module>\n",
      "    from .move import (move_argmax, move_argmin, move_max, move_mean, move_median,\n"
     ]
    },
    {
     "ename": "AttributeError",
     "evalue": "_ARRAY_API not found",
     "output_type": "error",
     "traceback": [
      "\u001b[1;31m---------------------------------------------------------------------------\u001b[0m",
      "\u001b[1;31mAttributeError\u001b[0m                            Traceback (most recent call last)",
      "\u001b[1;31mAttributeError\u001b[0m: _ARRAY_API not found"
     ]
    }
   ],
   "source": [
    "import warnings\n",
    "warnings.filterwarnings('ignore')\n",
    "import os\n",
    "import pandas as pd\n",
    "import numpy as np\n",
    "from typing import Union\n",
    "import seaborn as sns\n",
    "import matplotlib.pyplot as plt\n",
    "from scipy.io import loadmat\n",
    "import joblib"
   ]
  },
  {
   "cell_type": "markdown",
   "metadata": {},
   "source": [
    "### 路径定义"
   ]
  },
  {
   "cell_type": "code",
   "execution_count": 3,
   "metadata": {},
   "outputs": [],
   "source": [
    "root = '.'\n",
    "# raw_data_root = os.path.join(root, 'None')\n",
    "data_folder = os.path.join(root, 'dataset')\n",
    "fc_data_folder = os.path.join(data_folder, 'fc_data')\n",
    "math_data_url = os.path.join(data_folder, 'math_data')\n",
    "fc_residual_data_folder = os.path.join(data_folder, 'fc_residual_data')\n",
    "projection_url = os.path.join(root, 'references', 'networks_projection.csv')\n",
    "img_save_folder = os.path.join(root, 'imgs')\n",
    "model_folder = os.path.join(root, 'models')"
   ]
  },
  {
   "cell_type": "markdown",
   "metadata": {},
   "source": [
    "### 环境变量"
   ]
  },
  {
   "cell_type": "code",
   "execution_count": 4,
   "metadata": {},
   "outputs": [],
   "source": [
    "NODES_RANGE = range(1, 269)\n",
    "NETWORKS = {1: 'Medial frontal', 2: 'Frontoparietal', 3: 'Default mode', 4: 'Subcortical-cerebellum', 5: 'Motor', 6: 'Visual I', 7: 'Visual Ⅱ', 8: 'Visual association'}\n",
    "# 矩阵按照下三角组合的索引对，转为list如(e.g. [0-1, 0-2, ...])\n",
    "LOWER_TRIANGULAR_IDX = [f'{i}-{j}' for i in range(1, 269) for j in range(i+1, 269)]\n",
    "FC_KEYS = ['FC_mat']\n",
    "MATH_KEYS = {'math': ['behav_math'], 'ID': ['cov_ID2'], 'gender': ['cov_gender'], 'grade': ['cov_grade']}"
   ]
  },
  {
   "cell_type": "code",
   "execution_count": 5,
   "metadata": {},
   "outputs": [
    {
     "data": {
      "text/html": [
       "<div>\n",
       "<style scoped>\n",
       "    .dataframe tbody tr th:only-of-type {\n",
       "        vertical-align: middle;\n",
       "    }\n",
       "\n",
       "    .dataframe tbody tr th {\n",
       "        vertical-align: top;\n",
       "    }\n",
       "\n",
       "    .dataframe thead th {\n",
       "        text-align: right;\n",
       "    }\n",
       "</style>\n",
       "<table border=\"1\" class=\"dataframe\">\n",
       "  <thead>\n",
       "    <tr style=\"text-align: right;\">\n",
       "      <th></th>\n",
       "      <th>Node</th>\n",
       "      <th>Network</th>\n",
       "    </tr>\n",
       "  </thead>\n",
       "  <tbody>\n",
       "    <tr>\n",
       "      <th>0</th>\n",
       "      <td>1</td>\n",
       "      <td>2</td>\n",
       "    </tr>\n",
       "    <tr>\n",
       "      <th>1</th>\n",
       "      <td>2</td>\n",
       "      <td>4</td>\n",
       "    </tr>\n",
       "    <tr>\n",
       "      <th>2</th>\n",
       "      <td>3</td>\n",
       "      <td>3</td>\n",
       "    </tr>\n",
       "    <tr>\n",
       "      <th>3</th>\n",
       "      <td>4</td>\n",
       "      <td>2</td>\n",
       "    </tr>\n",
       "    <tr>\n",
       "      <th>4</th>\n",
       "      <td>5</td>\n",
       "      <td>3</td>\n",
       "    </tr>\n",
       "  </tbody>\n",
       "</table>\n",
       "</div>"
      ],
      "text/plain": [
       "   Node  Network\n",
       "0     1        2\n",
       "1     2        4\n",
       "2     3        3\n",
       "3     4        2\n",
       "4     5        3"
      ]
     },
     "execution_count": 5,
     "metadata": {},
     "output_type": "execute_result"
    }
   ],
   "source": [
    "# 获取映射关系\n",
    "projection = pd.read_csv(projection_url)\n",
    "projection.head()"
   ]
  },
  {
   "cell_type": "markdown",
   "metadata": {},
   "source": [
    "### 函数定义"
   ]
  },
  {
   "cell_type": "code",
   "execution_count": 6,
   "metadata": {},
   "outputs": [],
   "source": [
    "# # 从Excel数据中提取特定表数据\n",
    "# def get_slice_fc(fc_bart:pd.DataFrame, slice:int):\n",
    "#     \"\"\"\n",
    "#     Describe:\n",
    "#         get fc of a slice from fc_bart.\n",
    "#     Input:\n",
    "#         fc_bart: pd.DataFrame\n",
    "#         slice: int\n",
    "#     Output:\n",
    "#         sheet: pd.DataFrame\n",
    "#     \"\"\"\n",
    "#     # get all sheet names\n",
    "#     slice_names = fc_bart.sheet_names\n",
    "#     slice_name = 'Slice_' + str(slice)\n",
    "#     if slice_name not in slice_names:\n",
    "#         raise ValueError(f'Slice not found, Slice from {slice_names[1]} to {slice_names[-1]}')\n",
    "#     # get the sheet of the slice\n",
    "#     sheet = fc_bart.parse(slice_name, header=None)\n",
    "#     # set headers and idx like 'Voxel1'\n",
    "#     sheet.columns = ['Voxel' + str(i) for i in range(1, sheet.shape[1] + 1)]\n",
    "#     sheet.index = ['Voxel' + str(i) for i in range(1, sheet.shape[0] + 1)]\n",
    "    \n",
    "#     return sheet"
   ]
  },
  {
   "cell_type": "code",
   "execution_count": 7,
   "metadata": {},
   "outputs": [],
   "source": [
    "# # 加载数据\n",
    "# def load_data(data_path: str) -> pd.DataFrame:\n",
    "#     if not os.path.exists(data_path):\n",
    "#         raise FileNotFoundError(f\"file not found: {data_path}\")\n",
    "    \n",
    "#     if data_path.endswith(\".csv\"):\n",
    "#         df = pd.read_csv(data_path)\n",
    "#     elif data_path.endswith(\".xlsx\"):\n",
    "#         df = pd.ExcelFile(data_path)\n",
    "#         if len(df.sheet_names) == 1:\n",
    "#             df = df.parse(df.sheet_names[0], header=None)\n",
    "    \n",
    "#     return df"
   ]
  },
  {
   "cell_type": "code",
   "execution_count": 8,
   "metadata": {},
   "outputs": [],
   "source": [
    "# 获取指定目录下的所有文件名\n",
    "def get_files(path: str, suffix: Union[str, list]=None) -> list:\n",
    "    \"\"\"\n",
    "    Describe:\n",
    "        get all files under the path with the specified suffix.\n",
    "    \"\"\"\n",
    "    if not os.path.exists(path):\n",
    "        raise FileNotFoundError(f\"file not found: {path}\")\n",
    "    \n",
    "    if isinstance(suffix, str):\n",
    "        suffix = [suffix]\n",
    "    if suffix is None:\n",
    "        suffix = []\n",
    "    \n",
    "    files = []\n",
    "    for root, dirs, filenames in os.walk(path):\n",
    "        for filename in filenames:\n",
    "            if filename.split('.')[-1] in suffix:\n",
    "                files.append(os.path.join(root, filename))\n",
    "\n",
    "    return files"
   ]
  },
  {
   "cell_type": "code",
   "execution_count": 9,
   "metadata": {},
   "outputs": [],
   "source": [
    "# 读取.mat数据\n",
    "def load_mat(mat_path: str, *args) -> np.array:\n",
    "    \"\"\"\n",
    "    Describe:\n",
    "        load .mat file to numpy array.\n",
    "    Input:\n",
    "        mat_path: str\n",
    "    Output:\n",
    "        data: np.array\n",
    "    \"\"\"\n",
    "    if not os.path.exists(mat_path):\n",
    "        raise FileNotFoundError(f\"file not found: {mat_path}\")\n",
    "    \n",
    "    mat = loadmat(mat_path)\n",
    "\n",
    "    # # 打印各个变量的维度\n",
    "    # for key, value in mat.items():\n",
    "    #     if isinstance(value, np.ndarray):\n",
    "    #         print(f\"{key}: {value.shape}\")\n",
    "    # return\n",
    "\n",
    "    # transform to numpy array\n",
    "    if len(args) == 1:\n",
    "        data = mat[args[0]]\n",
    "    elif len(args) > 1:\n",
    "        data = {key:mat[key] for key in args}\n",
    "    else:\n",
    "        data = mat\n",
    "    \n",
    "    return data"
   ]
  },
  {
   "cell_type": "code",
   "execution_count": 10,
   "metadata": {},
   "outputs": [],
   "source": [
    "# 将numpy array转为pandas DataFrame\n",
    "def array2df(data: np.array, columns:list=None, \n",
    "idx:list=None) -> pd.DataFrame:\n",
    "    \"\"\"\n",
    "    Describe:\n",
    "        transform numpy array to pandas DataFrame.\n",
    "    Input:\n",
    "        data: np.array\n",
    "        columns: list\n",
    "        idx: list\n",
    "    Output:\n",
    "        df: pd.DataFrame\n",
    "    \"\"\"\n",
    "    if isinstance(data, np.ndarray):\n",
    "        # check dimensions\n",
    "        if data.ndim > 2:\n",
    "            raise ValueError(f\"Data dimensions should be less than 3, but got {data.ndim}: {data.shape}\")\n",
    "        \n",
    "        if columns:\n",
    "            if len(columns) != data.shape[1]:\n",
    "                raise ValueError(f\"Columns length should be equal to data's second dimension{data.shape[1]}, but got {len(columns)}\")\n",
    "        if idx:\n",
    "            if len(idx) != data.shape[0]:\n",
    "                raise ValueError(f\"Index length should be equal to data's first dimension{data.shape[0]}, but got {len(idx)}\")\n",
    "            \n",
    "        df = pd.DataFrame(data, columns=columns, index=idx)\n",
    "    else:\n",
    "        raise TypeError(f\"Data type should be np.ndarray, but got {type(data)}\")\n",
    "    \n",
    "    return df"
   ]
  },
  {
   "cell_type": "code",
   "execution_count": 11,
   "metadata": {},
   "outputs": [],
   "source": [
    "# 取对称矩阵的下三角元素并将元素展平为一维\n",
    "def flatten_lower_triangle(matrix: np.array) -> np.array:\n",
    "    \"\"\"\n",
    "    Describe:\n",
    "        flatten lower triangle of a matrix.\n",
    "    Input:\n",
    "        matrix: np.array\n",
    "    Output:\n",
    "        flatten_matrix: np.array\n",
    "    \"\"\"\n",
    "    if matrix.ndim != 2:\n",
    "        raise ValueError(f\"Matrix dimensions should be 2, but got {matrix.ndim}\")\n",
    "    \n",
    "    # get lower triangle index\n",
    "    idx = np.tril_indices(matrix.shape[0], -1)\n",
    "    flatten_matrix = matrix[idx]\n",
    "    \n",
    "    return flatten_matrix"
   ]
  },
  {
   "cell_type": "code",
   "execution_count": 12,
   "metadata": {},
   "outputs": [],
   "source": [
    "# 提取数据下三角元素并展平拼接\n",
    "def merge_lower_triangle(data: np.array) -> pd.DataFrame:\n",
    "    \"\"\"\n",
    "    Describe:\n",
    "        merge lower triangle of each matrix in data.\n",
    "    Input:\n",
    "        data: np.array\n",
    "    Output:\n",
    "        flatten_data: pd.DataFrame\n",
    "    \"\"\"\n",
    "    if data.ndim != 3:\n",
    "        raise ValueError(f\"Data dimensions should be 3, but got {data.ndim}\")\n",
    "    \n",
    "    # 将fc_bart下三角阵展平并合并\n",
    "    for i in range(1, data.shape[2]):\n",
    "        flatten = np.vstack([flatten_lower_triangle(data[:, :, i]) for i in range(data.shape[2])])\n",
    "    flatten = array2df(flatten, columns=LOWER_TRIANGULAR_IDX)\n",
    "    \n",
    "    return flatten\n"
   ]
  },
  {
   "cell_type": "code",
   "execution_count": 13,
   "metadata": {},
   "outputs": [],
   "source": [
    "# 将对称的fc矩阵变为下三角阵，上三角阵置为0\n",
    "def reset_fc_matrix(fc_matrix: Union[pd.DataFrame, np.ndarray]):\n",
    "    \"\"\"\n",
    "    Describe:\n",
    "        reset fc matrix to lower triangle matrix.\n",
    "    Args:\n",
    "        fc_matrix: pd.DataFrame or np.ndarray\n",
    "    \"\"\"\n",
    "    if isinstance(fc_matrix, pd.DataFrame):\n",
    "        # 处理DataFrame类型的fc_matrix\n",
    "        pass\n",
    "    elif isinstance(fc_matrix, np.ndarray):\n",
    "        # 处理ndarray类型的fc_matrix\n",
    "        pass\n",
    "    n = fc_matrix.shape[0]\n",
    "    new_fc_matrix = fc_matrix.copy()\n",
    "    for i in range(n):\n",
    "        for j in range(i+1, n):\n",
    "            new_fc_matrix[j, i] = 0\n",
    "    return pd.DataFrame(new_fc_matrix)"
   ]
  },
  {
   "cell_type": "code",
   "execution_count": 14,
   "metadata": {},
   "outputs": [],
   "source": [
    "# 使用fsl绘制fc矩阵的热图\n",
    "def plot_fc_heatmap(fc_matrix: Union[pd.DataFrame, np.ndarray], xlabel:str=None, ylabel:str=None, title:str='default', output:str=None):\n",
    "    \"\"\"\n",
    "    Describe:\n",
    "        plot fc matrix heatmap.\n",
    "    Args:\n",
    "        fc_matrix: pd.DataFrame or np.ndarray\n",
    "        output: str\n",
    "    \"\"\"\n",
    "    if isinstance(fc_matrix, pd.DataFrame):\n",
    "        # 处理DataFrame类型的fc_matrix\n",
    "        pass\n",
    "    elif isinstance(fc_matrix, np.ndarray):\n",
    "        # 处理ndarray类型的fc_matrix\n",
    "        pass\n",
    "    \n",
    "    plt.figure(figsize=(8, 6))\n",
    "    sns.heatmap(fc_matrix, cmap='coolwarm', center=0, square=True)\n",
    "\n",
    "    if xlabel:\n",
    "        plt.xlabel(xlabel)\n",
    "        plt.xticks([])\n",
    "    if ylabel:\n",
    "        plt.ylabel(ylabel)\n",
    "        plt.yticks([])\n",
    "\n",
    "    plt.title(title)\n",
    "\n",
    "    if output:\n",
    "        if not output.endswith('.png'):\n",
    "            output += '.png'\n",
    "        plt.savefig(output)\n",
    "    # plt.close()"
   ]
  },
  {
   "cell_type": "code",
   "execution_count": 74,
   "metadata": {},
   "outputs": [],
   "source": [
    "# node到network的映射方法\n",
    "def node2network(projection_set:pd.DataFrame, nodes:list=None, networks:list=None, only_idx:bool=True, data:pd.DataFrame=None, flatten:bool=False)->Union[pd.DataFrame|tuple]:\n",
    "    \"\"\"\n",
    "    Describe:\n",
    "        node to network mapping.\n",
    "        if set node, return the network of the node.\n",
    "        if set n_networks, return the nodes of the network.\n",
    "        if only_idx is True, only return the corresponding index of input.\n",
    "        if data is set, return the corresponding data of the input with its shape.\n",
    "    Args:\n",
    "        projection_set: pd.DataFrame\n",
    "        node: int\n",
    "        n_networks: int\n",
    "        only_idx: bool\n",
    "        data: pd.DataFrame\n",
    "        faltten: bool (whether data input is flatten)\n",
    "    Returns:\n",
    "        pd.DataFrame, tuple\n",
    "    \"\"\"\n",
    "    if nodes is not None and networks is not None:\n",
    "        raise ValueError(\"node and networks cannot be set at the same time.\")\n",
    "    \n",
    "    if nodes is not None:\n",
    "        if only_idx:\n",
    "            unique_q = list(set(nodes))\n",
    "            belongings = {}\n",
    "            # 以network为key，node为value，构建字典\n",
    "            for network in NETWORKS.keys():\n",
    "                temp = projection_set[projection_set['Network'] == network]\n",
    "                belongings[network] = temp[temp['Node'].isin(unique_q)]['Node'].unique()\n",
    "            return belongings\n",
    "        else:\n",
    "            ...\n",
    "\n",
    "    elif networks is not None:\n",
    "        if only_idx:\n",
    "            unique_q = list(set(networks))\n",
    "            belongings = {}\n",
    "            for network in unique_q:\n",
    "                if network not in NETWORKS.keys():\n",
    "                    raise ValueError(f\"Network {network} not found.\")\n",
    "                belongings[network] = projection_set[projection_set['Network'] == network]['Node'].unique()\n",
    "            return belongings\n",
    "        else:\n",
    "            ...\n",
    "    "
   ]
  },
  {
   "cell_type": "code",
   "execution_count": 16,
   "metadata": {},
   "outputs": [],
   "source": [
    "# 保存模型\n",
    "def save_model(model, name_rule:str='model', sub_folder:str='', save_folder:str=model_folder):\n",
    "\n",
    "    if not os.path.exists(save_folder):\n",
    "        raise FileNotFoundError(f\"folder not found: {save_folder}\")\n",
    "    \n",
    "    if not os.path.exists(sub_folder) and sub_folder:\n",
    "        os.makedirs(sub_folder)\n",
    "\n",
    "    if isinstance(model, list):\n",
    "        for i, m in enumerate(model):\n",
    "            joblib.dump(m, os.path.join(save_folder, sub_folder, f'{name_rule}_{i+1}.pkl'))\n",
    "    else:\n",
    "        joblib.dump(model, os.path.join(save_folder, sub_folder, f'{name_rule}.pkl'))\n",
    "    "
   ]
  },
  {
   "cell_type": "markdown",
   "metadata": {},
   "source": [
    "### 数据概览"
   ]
  },
  {
   "cell_type": "code",
   "execution_count": 54,
   "metadata": {},
   "outputs": [
    {
     "data": {
      "text/plain": [
       "(['.\\\\dataset\\\\fc_data\\\\FC_ant.mat',\n",
       "  '.\\\\dataset\\\\fc_data\\\\FC_bart.mat',\n",
       "  '.\\\\dataset\\\\fc_data\\\\FC_em.mat',\n",
       "  '.\\\\dataset\\\\fc_data\\\\FC_nb.mat'],\n",
       " ['.\\\\dataset\\\\math_data\\\\math_ant.mat',\n",
       "  '.\\\\dataset\\\\math_data\\\\math_bart.mat',\n",
       "  '.\\\\dataset\\\\math_data\\\\math_em.mat',\n",
       "  '.\\\\dataset\\\\math_data\\\\math_nb.mat'])"
      ]
     },
     "execution_count": 54,
     "metadata": {},
     "output_type": "execute_result"
    }
   ],
   "source": [
    "# get files\n",
    "fc_files = get_files(fc_data_folder, 'mat')\n",
    "math_files = get_files(math_data_url, 'mat')\n",
    "fc_files, math_files"
   ]
  },
  {
   "cell_type": "code",
   "execution_count": 55,
   "metadata": {},
   "outputs": [
    {
     "data": {
      "text/plain": [
       "((268, 268, 300), (300, 1))"
      ]
     },
     "execution_count": 55,
     "metadata": {},
     "output_type": "execute_result"
    }
   ],
   "source": [
    "# load data\n",
    "fc_bart = load_mat(fc_files[1], *FC_KEYS)\n",
    "math_scores = load_mat(math_files[1], *MATH_KEYS['math'])\n",
    "fc_bart.shape, math_scores.shape"
   ]
  },
  {
   "cell_type": "code",
   "execution_count": 56,
   "metadata": {},
   "outputs": [
    {
     "data": {
      "text/html": [
       "<div>\n",
       "<style scoped>\n",
       "    .dataframe tbody tr th:only-of-type {\n",
       "        vertical-align: middle;\n",
       "    }\n",
       "\n",
       "    .dataframe tbody tr th {\n",
       "        vertical-align: top;\n",
       "    }\n",
       "\n",
       "    .dataframe thead th {\n",
       "        text-align: right;\n",
       "    }\n",
       "</style>\n",
       "<table border=\"1\" class=\"dataframe\">\n",
       "  <thead>\n",
       "    <tr style=\"text-align: right;\">\n",
       "      <th></th>\n",
       "      <th>1</th>\n",
       "      <th>2</th>\n",
       "      <th>3</th>\n",
       "      <th>4</th>\n",
       "      <th>5</th>\n",
       "      <th>6</th>\n",
       "      <th>7</th>\n",
       "      <th>8</th>\n",
       "      <th>9</th>\n",
       "      <th>10</th>\n",
       "      <th>...</th>\n",
       "      <th>259</th>\n",
       "      <th>260</th>\n",
       "      <th>261</th>\n",
       "      <th>262</th>\n",
       "      <th>263</th>\n",
       "      <th>264</th>\n",
       "      <th>265</th>\n",
       "      <th>266</th>\n",
       "      <th>267</th>\n",
       "      <th>268</th>\n",
       "    </tr>\n",
       "  </thead>\n",
       "  <tbody>\n",
       "    <tr>\n",
       "      <th>1</th>\n",
       "      <td>0.000000</td>\n",
       "      <td>-0.134212</td>\n",
       "      <td>0.173157</td>\n",
       "      <td>0.104981</td>\n",
       "      <td>0.085369</td>\n",
       "      <td>-0.054657</td>\n",
       "      <td>0.133306</td>\n",
       "      <td>0.247122</td>\n",
       "      <td>0.367899</td>\n",
       "      <td>-0.064801</td>\n",
       "      <td>...</td>\n",
       "      <td>0.237436</td>\n",
       "      <td>0.215343</td>\n",
       "      <td>0.051870</td>\n",
       "      <td>0.206197</td>\n",
       "      <td>0.196908</td>\n",
       "      <td>0.166484</td>\n",
       "      <td>0.243988</td>\n",
       "      <td>0.008609</td>\n",
       "      <td>0.478688</td>\n",
       "      <td>-0.100761</td>\n",
       "    </tr>\n",
       "    <tr>\n",
       "      <th>2</th>\n",
       "      <td>-0.134212</td>\n",
       "      <td>0.000000</td>\n",
       "      <td>0.227494</td>\n",
       "      <td>0.251627</td>\n",
       "      <td>0.069518</td>\n",
       "      <td>0.204896</td>\n",
       "      <td>0.208686</td>\n",
       "      <td>0.075589</td>\n",
       "      <td>0.084577</td>\n",
       "      <td>0.098416</td>\n",
       "      <td>...</td>\n",
       "      <td>-0.200088</td>\n",
       "      <td>-0.238993</td>\n",
       "      <td>0.178875</td>\n",
       "      <td>0.065824</td>\n",
       "      <td>-0.166461</td>\n",
       "      <td>-0.270812</td>\n",
       "      <td>0.143404</td>\n",
       "      <td>-0.011739</td>\n",
       "      <td>-0.296496</td>\n",
       "      <td>0.124123</td>\n",
       "    </tr>\n",
       "    <tr>\n",
       "      <th>3</th>\n",
       "      <td>0.173157</td>\n",
       "      <td>0.227494</td>\n",
       "      <td>0.000000</td>\n",
       "      <td>0.333182</td>\n",
       "      <td>0.233398</td>\n",
       "      <td>0.180528</td>\n",
       "      <td>0.144632</td>\n",
       "      <td>-0.049372</td>\n",
       "      <td>0.049068</td>\n",
       "      <td>0.097894</td>\n",
       "      <td>...</td>\n",
       "      <td>0.047772</td>\n",
       "      <td>-0.157287</td>\n",
       "      <td>0.230667</td>\n",
       "      <td>0.126153</td>\n",
       "      <td>-0.095713</td>\n",
       "      <td>-0.417319</td>\n",
       "      <td>0.306749</td>\n",
       "      <td>-0.040966</td>\n",
       "      <td>-0.043232</td>\n",
       "      <td>0.016863</td>\n",
       "    </tr>\n",
       "    <tr>\n",
       "      <th>4</th>\n",
       "      <td>0.104981</td>\n",
       "      <td>0.251627</td>\n",
       "      <td>0.333182</td>\n",
       "      <td>0.000000</td>\n",
       "      <td>-0.092764</td>\n",
       "      <td>0.081935</td>\n",
       "      <td>0.295651</td>\n",
       "      <td>0.226443</td>\n",
       "      <td>0.423303</td>\n",
       "      <td>0.002452</td>\n",
       "      <td>...</td>\n",
       "      <td>-0.044735</td>\n",
       "      <td>0.223942</td>\n",
       "      <td>0.115371</td>\n",
       "      <td>0.288373</td>\n",
       "      <td>0.365413</td>\n",
       "      <td>0.130634</td>\n",
       "      <td>0.269977</td>\n",
       "      <td>0.021065</td>\n",
       "      <td>-0.038831</td>\n",
       "      <td>0.345634</td>\n",
       "    </tr>\n",
       "    <tr>\n",
       "      <th>5</th>\n",
       "      <td>0.085369</td>\n",
       "      <td>0.069518</td>\n",
       "      <td>0.233398</td>\n",
       "      <td>-0.092764</td>\n",
       "      <td>0.000000</td>\n",
       "      <td>0.458606</td>\n",
       "      <td>-0.020393</td>\n",
       "      <td>0.029129</td>\n",
       "      <td>-0.004345</td>\n",
       "      <td>0.703778</td>\n",
       "      <td>...</td>\n",
       "      <td>0.385358</td>\n",
       "      <td>-0.099475</td>\n",
       "      <td>0.126898</td>\n",
       "      <td>0.239115</td>\n",
       "      <td>-0.143319</td>\n",
       "      <td>-0.259855</td>\n",
       "      <td>-0.037367</td>\n",
       "      <td>-0.065286</td>\n",
       "      <td>0.226203</td>\n",
       "      <td>0.059890</td>\n",
       "    </tr>\n",
       "  </tbody>\n",
       "</table>\n",
       "<p>5 rows × 268 columns</p>\n",
       "</div>"
      ],
      "text/plain": [
       "        1         2         3         4         5         6         7    \\\n",
       "1  0.000000 -0.134212  0.173157  0.104981  0.085369 -0.054657  0.133306   \n",
       "2 -0.134212  0.000000  0.227494  0.251627  0.069518  0.204896  0.208686   \n",
       "3  0.173157  0.227494  0.000000  0.333182  0.233398  0.180528  0.144632   \n",
       "4  0.104981  0.251627  0.333182  0.000000 -0.092764  0.081935  0.295651   \n",
       "5  0.085369  0.069518  0.233398 -0.092764  0.000000  0.458606 -0.020393   \n",
       "\n",
       "        8         9         10   ...       259       260       261       262  \\\n",
       "1  0.247122  0.367899 -0.064801  ...  0.237436  0.215343  0.051870  0.206197   \n",
       "2  0.075589  0.084577  0.098416  ... -0.200088 -0.238993  0.178875  0.065824   \n",
       "3 -0.049372  0.049068  0.097894  ...  0.047772 -0.157287  0.230667  0.126153   \n",
       "4  0.226443  0.423303  0.002452  ... -0.044735  0.223942  0.115371  0.288373   \n",
       "5  0.029129 -0.004345  0.703778  ...  0.385358 -0.099475  0.126898  0.239115   \n",
       "\n",
       "        263       264       265       266       267       268  \n",
       "1  0.196908  0.166484  0.243988  0.008609  0.478688 -0.100761  \n",
       "2 -0.166461 -0.270812  0.143404 -0.011739 -0.296496  0.124123  \n",
       "3 -0.095713 -0.417319  0.306749 -0.040966 -0.043232  0.016863  \n",
       "4  0.365413  0.130634  0.269977  0.021065 -0.038831  0.345634  \n",
       "5 -0.143319 -0.259855 -0.037367 -0.065286  0.226203  0.059890  \n",
       "\n",
       "[5 rows x 268 columns]"
      ]
     },
     "execution_count": 56,
     "metadata": {},
     "output_type": "execute_result"
    }
   ],
   "source": [
    "# transform to DataFrame\n",
    "fc_bart0 = array2df(fc_bart[:, :, 0], columns=NODES_RANGE, idx=NODES_RANGE)\n",
    "math_scores = array2df(math_scores, columns=['math'])\n",
    "fc_bart0.head()"
   ]
  },
  {
   "cell_type": "code",
   "execution_count": 57,
   "metadata": {},
   "outputs": [
    {
     "data": {
      "image/png": "[encoded data removed]",
      "text/plain": [
       "<Figure size 800x600 with 2 Axes>"
      ]
     },
     "metadata": {},
     "output_type": "display_data"
    }
   ],
   "source": [
    "plot_fc_heatmap(fc_bart0, xlabel='Voxels', ylabel='Voxels', title='bart_slice1', output=os.path.join(img_save_folder, 'bart_slice1.png'))"
   ]
  },
  {
   "cell_type": "code",
   "execution_count": 58,
   "metadata": {},
   "outputs": [
    {
     "data": {
      "text/html": [
       "<div>\n",
       "<style scoped>\n",
       "    .dataframe tbody tr th:only-of-type {\n",
       "        vertical-align: middle;\n",
       "    }\n",
       "\n",
       "    .dataframe tbody tr th {\n",
       "        vertical-align: top;\n",
       "    }\n",
       "\n",
       "    .dataframe thead th {\n",
       "        text-align: right;\n",
       "    }\n",
       "</style>\n",
       "<table border=\"1\" class=\"dataframe\">\n",
       "  <thead>\n",
       "    <tr style=\"text-align: right;\">\n",
       "      <th></th>\n",
       "      <th>math</th>\n",
       "    </tr>\n",
       "  </thead>\n",
       "  <tbody>\n",
       "    <tr>\n",
       "      <th>0</th>\n",
       "      <td>558.50</td>\n",
       "    </tr>\n",
       "    <tr>\n",
       "      <th>1</th>\n",
       "      <td>510.24</td>\n",
       "    </tr>\n",
       "    <tr>\n",
       "      <th>2</th>\n",
       "      <td>558.50</td>\n",
       "    </tr>\n",
       "    <tr>\n",
       "      <th>3</th>\n",
       "      <td>393.82</td>\n",
       "    </tr>\n",
       "    <tr>\n",
       "      <th>4</th>\n",
       "      <td>477.30</td>\n",
       "    </tr>\n",
       "  </tbody>\n",
       "</table>\n",
       "</div>"
      ],
      "text/plain": [
       "     math\n",
       "0  558.50\n",
       "1  510.24\n",
       "2  558.50\n",
       "3  393.82\n",
       "4  477.30"
      ]
     },
     "execution_count": 58,
     "metadata": {},
     "output_type": "execute_result"
    }
   ],
   "source": [
    "math_scores.head()"
   ]
  },
  {
   "cell_type": "code",
   "execution_count": 59,
   "metadata": {},
   "outputs": [
    {
     "data": {
      "text/html": [
       "<div>\n",
       "<style scoped>\n",
       "    .dataframe tbody tr th:only-of-type {\n",
       "        vertical-align: middle;\n",
       "    }\n",
       "\n",
       "    .dataframe tbody tr th {\n",
       "        vertical-align: top;\n",
       "    }\n",
       "\n",
       "    .dataframe thead th {\n",
       "        text-align: right;\n",
       "    }\n",
       "</style>\n",
       "<table border=\"1\" class=\"dataframe\">\n",
       "  <thead>\n",
       "    <tr style=\"text-align: right;\">\n",
       "      <th></th>\n",
       "      <th>math</th>\n",
       "    </tr>\n",
       "  </thead>\n",
       "  <tbody>\n",
       "    <tr>\n",
       "      <th>count</th>\n",
       "      <td>300.000000</td>\n",
       "    </tr>\n",
       "    <tr>\n",
       "      <th>mean</th>\n",
       "      <td>533.609833</td>\n",
       "    </tr>\n",
       "    <tr>\n",
       "      <th>std</th>\n",
       "      <td>99.473179</td>\n",
       "    </tr>\n",
       "    <tr>\n",
       "      <th>min</th>\n",
       "      <td>292.990000</td>\n",
       "    </tr>\n",
       "    <tr>\n",
       "      <th>25%</th>\n",
       "      <td>461.620000</td>\n",
       "    </tr>\n",
       "    <tr>\n",
       "      <th>50%</th>\n",
       "      <td>522.680000</td>\n",
       "    </tr>\n",
       "    <tr>\n",
       "      <th>75%</th>\n",
       "      <td>603.740000</td>\n",
       "    </tr>\n",
       "    <tr>\n",
       "      <th>max</th>\n",
       "      <td>795.010000</td>\n",
       "    </tr>\n",
       "  </tbody>\n",
       "</table>\n",
       "</div>"
      ],
      "text/plain": [
       "             math\n",
       "count  300.000000\n",
       "mean   533.609833\n",
       "std     99.473179\n",
       "min    292.990000\n",
       "25%    461.620000\n",
       "50%    522.680000\n",
       "75%    603.740000\n",
       "max    795.010000"
      ]
     },
     "execution_count": 59,
     "metadata": {},
     "output_type": "execute_result"
    }
   ],
   "source": [
    "math_scores.describe()"
   ]
  },
  {
   "cell_type": "code",
   "execution_count": null,
   "metadata": {},
   "outputs": [
    {
     "data": {
      "text/plain": [
       "{1: array([ 10,  12,  16,  52,  53,  54,  56,  57,  64,  65, 137, 140, 145,\n",
       "        148, 149, 150, 151, 153, 156, 162, 165, 183, 185, 186, 187, 190,\n",
       "        192, 194, 219]),\n",
       " 2: array([  1,   4,   7,   8,   9,  14,  17,  19,  21,  22,  30,  31,  47,\n",
       "         48,  55,  70, 111, 112, 116, 139, 142, 143, 147, 154, 157, 164,\n",
       "        182, 184, 193, 196, 199, 242, 246, 247]),\n",
       " 3: array([  3,   5,   6,  13,  49,  50,  85,  86,  90,  96, 115, 134, 138,\n",
       "        141, 203, 222, 223, 225, 227, 239])}"
      ]
     },
     "metadata": {},
     "output_type": "display_data"
    }
   ],
   "source": [
    "# test of projection between node and network\n",
    "results = node2network(\n",
    "    projection_set=projection,\n",
    "    nodes=None,\n",
    "    networks=[1, 2, 3],\n",
    "    only_idx=True,\n",
    "    data=None,\n",
    "    flatten=False\n",
    ")\n",
    "results"
   ]
  },
  {
   "cell_type": "markdown",
   "metadata": {},
   "source": [
    "### 新方法"
   ]
  },
  {
   "cell_type": "markdown",
   "metadata": {},
   "source": [
    "Idea:\n"
   ]
  },
  {
   "cell_type": "markdown",
   "metadata": {},
   "source": [
    "#### 库导入"
   ]
  },
  {
   "cell_type": "code",
   "execution_count": 76,
   "metadata": {},
   "outputs": [],
   "source": [
    "import numpy as np\n",
    "import pandas as pd\n",
    "import statsmodels.api as sm\n",
    "from sklearn.model_selection import KFold, cross_val_score, train_test_split\n",
    "from sklearn.metrics import r2_score\n",
    "from tqdm.notebook import tqdm\n",
    "from copy import deepcopy"
   ]
  },
  {
   "cell_type": "markdown",
   "metadata": {},
   "source": [
    "#### Methods"
   ]
  },
  {
   "cell_type": "code",
   "execution_count": 77,
   "metadata": {},
   "outputs": [],
   "source": [
    "def regress_out_covariates(data: np.array, *covariates) -> pd.DataFrame:\n",
    "    \"\"\"\n",
    "    Describe:\n",
    "        regress out covariates from data.\n",
    "    Input:\n",
    "        data: np.array\n",
    "        covariates: np.array\n",
    "    Output:\n",
    "        residuals: pd.DataFrame\n",
    "    \"\"\"\n",
    "\n",
    "    # 将fc_bart下三角阵展平并合并\n",
    "    lower_triangle_fc = merge_lower_triangle(data)\n",
    "    \n",
    "    # 合并协变量\n",
    "    cov = np.stack([covariate for covariate in covariates], axis=1).squeeze(-1)\n",
    "    cov = array2df(cov, columns=list(MATH_KEYS.keys())[-2:])\n",
    "    print(lower_triangle_fc.shape, cov.shape)\n",
    "\n",
    "    residuals = pd.DataFrame(index=lower_triangle_fc.index, columns=lower_triangle_fc.columns)\n",
    "    # 遍历每个下三角元素\n",
    "    for column in lower_triangle_fc.columns:\n",
    "        y = lower_triangle_fc[column]\n",
    "        X = sm.add_constant(cov)\n",
    "        model = sm.OLS(y, X).fit()\n",
    "        residuals[column] = model.resid\n",
    "    \n",
    "    return residuals"
   ]
  },
  {
   "cell_type": "code",
   "execution_count": 78,
   "metadata": {},
   "outputs": [],
   "source": [
    "# 交叉验证\n",
    "def fold_cv(model=None, X:pd.DataFrame=None, y:pd.DataFrame=None, n_splits:int=5,score_method:str='neg_mean_squared_error')->tuple:\n",
    "    \"\"\"\n",
    "    Describe:\n",
    "        10-fold cross validation.\n",
    "    Input:\n",
    "        model: sklearn model\n",
    "        X: pd.DataFrame\n",
    "        y: pd.DataFrame\n",
    "        n_splits: int\n",
    "        score_method: str\n",
    "    Output:\n",
    "        scores: list\n",
    "        mean_score: float\n",
    "        std_score: float\n",
    "    \"\"\"\n",
    "    if not model:\n",
    "        raise ValueError(\"model is required.\")\n",
    "    if X is None or y is None or X.empty or y.empty:\n",
    "        raise ValueError(\"X and y are required and cannot be empty.\")\n",
    "    \n",
    "    kf = KFold(n_splits=n_splits, shuffle=True, random_state=42)\n",
    "\n",
    "    # 计算交叉验证得分\n",
    "    cv_scores = cross_val_score(\n",
    "        model, \n",
    "        X, \n",
    "        y, \n",
    "        cv=kf, \n",
    "        scoring=score_method)\n",
    "    \n",
    "    return cv_scores, np.mean(cv_scores), np.std(cv_scores)\n",
    "    "
   ]
  },
  {
   "cell_type": "code",
   "execution_count": 79,
   "metadata": {},
   "outputs": [],
   "source": [
    "# 训练模型\n",
    "def train_model(X:pd.DataFrame, y:pd.DataFrame, model=None, test_size:float=0.2, group_num:int=100):\n",
    "    \"\"\"\n",
    "    Describe:\n",
    "        train model.\n",
    "    Input:\n",
    "        X: pd.DataFrame\n",
    "        y: pd.DataFrame\n",
    "        model: sklearn model\n",
    "        test_size: float\n",
    "        group_num: int\n",
    "    Output:\n",
    "        models: list\n",
    "        mean_score: float\n",
    "        std_score: float\n",
    "    \"\"\"\n",
    "    if model is None:\n",
    "        raise ValueError(\"model is required.\")\n",
    "    if X is None or y is None or X.empty or y.empty:\n",
    "        raise ValueError(\"X and y are required and cannot be empty.\")\n",
    "    \n",
    "    models = []\n",
    "    r2_scores = []\n",
    "    for i in range(group_num):\n",
    "        model_copy = deepcopy(model)\n",
    "        # 划分训练集和测试集\n",
    "        X_train, X_test, y_train, y_test = train_test_split(X, y, test_size=test_size, random_state=i)\n",
    "\n",
    "        model_copy.fit(X_train, y_train)\n",
    "        # 计算测试集得分\n",
    "        r2_scores.append(r2_score(y_test, model_copy.predict(X_test)))\n",
    "        models.append(model_copy)\n",
    "    print(f\"mean r2 score: {np.mean(r2_scores)}, std r2 score: {np.std(r2_scores)}\")\n",
    "    \n",
    "    return models"
   ]
  },
  {
   "cell_type": "code",
   "execution_count": 80,
   "metadata": {},
   "outputs": [],
   "source": [
    "# 多种组合训练模型并返回平均得分与标准差\n",
    "def group_train_cv_val(model, X:Union[pd.DataFrame|dict], y:Union[pd.DataFrame|dict], test_size:float=0.2, group_num:int=100, n_splits:int=10, score_method:str='neg_mean_squared_error')->Union[tuple|dict]:\n",
    "    \"\"\"\n",
    "    Describe:\n",
    "        多种组合训练模型并返回平均得分与标准差\n",
    "    Input:\n",
    "        model: sklearn model\n",
    "        X: pd.DataFrame or dict\n",
    "        y: pd.DataFrame or dict\n",
    "        test_size: float\n",
    "        group_num: int\n",
    "        n_splits: int\n",
    "        score_method: str\n",
    "    Output:\n",
    "        tuple(models, (mean_scores, std_scores), mean_score, std_score)\n",
    "         or \n",
    "        dict(key:(models, mean_temp, mean_score, std_score))\n",
    "    \"\"\"\n",
    "\n",
    "    if isinstance(X, pd.DataFrame) and isinstance(y, pd.DataFrame):\n",
    "        models = train_model(\n",
    "            X=X, \n",
    "            y=y, \n",
    "            model=model, \n",
    "            test_size=test_size, \n",
    "            group_num=group_num)\n",
    "        \n",
    "        mean_scores = []\n",
    "        std_scores = []\n",
    "        for model in tqdm(models):\n",
    "            scores, mean_score, std_score = fold_cv(\n",
    "                model=model, \n",
    "                X=X, \n",
    "                y=y, \n",
    "                n_splits=n_splits,\n",
    "                score_method=score_method)\n",
    "            mean_scores.append(mean_score)\n",
    "            std_scores.append(std_score)\n",
    "\n",
    "        return (models, (mean_scores, std_scores), np.mean(mean_scores), np.std(mean_scores))\n",
    "    \n",
    "    elif isinstance(X, dict) and isinstance(y, dict):\n",
    "        scores = {key:[] for key in X.keys()}\n",
    "        print(f'total {len(X.keys())} groups to train.')\n",
    "\n",
    "        for key in X.keys():\n",
    "            models = train_model(\n",
    "                X=X[key], \n",
    "                y=y[key], \n",
    "                model=model, \n",
    "                test_size=0.2, \n",
    "                group_num=100)\n",
    "            \n",
    "            mean_temp = []\n",
    "            for model in tqdm(models):\n",
    "                scores, mean_score, std_score = fold_cv(\n",
    "                    model=model, \n",
    "                    X=X[key], \n",
    "                    y=y[key], \n",
    "                    n_splits=10,\n",
    "                    score_method='neg_mean_squared_error')\n",
    "                mean_temp[key].append(mean_score)\n",
    "            \n",
    "            scores[key] = (models, mean_temp, np.mean(mean_temp), np.std(mean_temp))\n",
    "        \n",
    "        return scores\n",
    "\n",
    "    else:\n",
    "        raise ValueError(\"X and y should be both pd.DataFrame or dict.\")\n"
   ]
  },
  {
   "cell_type": "markdown",
   "metadata": {},
   "source": [
    "#### Pipline"
   ]
  },
  {
   "cell_type": "markdown",
   "metadata": {},
   "source": [
    "##### 加载原始数据"
   ]
  },
  {
   "cell_type": "code",
   "execution_count": null,
   "metadata": {},
   "outputs": [
    {
     "data": {
      "text/plain": [
       "(['.\\\\dataset\\\\fc_data\\\\FC_ant.mat',\n",
       "  '.\\\\dataset\\\\fc_data\\\\FC_bart.mat',\n",
       "  '.\\\\dataset\\\\fc_data\\\\FC_em.mat',\n",
       "  '.\\\\dataset\\\\fc_data\\\\FC_nb.mat'],\n",
       " ['.\\\\dataset\\\\math_data\\\\math_ant.mat',\n",
       "  '.\\\\dataset\\\\math_data\\\\math_bart.mat',\n",
       "  '.\\\\dataset\\\\math_data\\\\math_em.mat',\n",
       "  '.\\\\dataset\\\\math_data\\\\math_nb.mat'])"
      ]
     },
     "metadata": {},
     "output_type": "display_data"
    }
   ],
   "source": [
    "# 读取数据\n",
    "fc_files = get_files(fc_data_folder, 'mat')\n",
    "math_files = get_files(math_data_url, 'mat')\n",
    "fc_files, math_files"
   ]
  },
  {
   "cell_type": "code",
   "execution_count": null,
   "metadata": {},
   "outputs": [
    {
     "data": {
      "text/plain": [
       "((268, 268, 300), (300, 1), (300, 1), (300, 1))"
      ]
     },
     "metadata": {},
     "output_type": "display_data"
    }
   ],
   "source": [
    "fc_ant = load_mat(fc_files[0], *FC_KEYS)\n",
    "fc_bart = load_mat(fc_files[1], *FC_KEYS)\n",
    "fc_em = load_mat(fc_files[2], *FC_KEYS)\n",
    "fc_nb = load_mat(fc_files[3], *FC_KEYS)\n",
    "math_ant = load_mat(math_files[0])\n",
    "math_bart = load_mat(math_files[1])\n",
    "math_em = load_mat(math_files[2])\n",
    "math_nb = load_mat(math_files[3])\n",
    "gender_bart = load_mat(math_files[1], *MATH_KEYS['gender'])\n",
    "grade_bart = load_mat(math_files[1], *MATH_KEYS['grade'])\n",
    "fc_bart.shape, math_bart[MATH_KEYS['math'][0]].shape, gender_bart.shape, grade_bart.shape"
   ]
  },
  {
   "cell_type": "code",
   "execution_count": null,
   "metadata": {},
   "outputs": [
    {
     "data": {
      "text/plain": [
       "(array([1, 2], dtype=uint8), array([1, 2, 3, 4, 5, 6], dtype=uint8))"
      ]
     },
     "metadata": {},
     "output_type": "display_data"
    }
   ],
   "source": [
    "np.unique(gender_bart), np.unique(grade_bart)"
   ]
  },
  {
   "cell_type": "markdown",
   "metadata": {},
   "source": [
    "##### 年龄&性别的残差回归"
   ]
  },
  {
   "cell_type": "code",
   "execution_count": null,
   "metadata": {},
   "outputs": [
    {
     "name": "stdout",
     "output_type": "stream",
     "text": [
      "(256, 35778) (256, 2)\n"
     ]
    },
    {
     "data": {
      "text/plain": [
       "(256, 35778)"
      ]
     },
     "metadata": {},
     "output_type": "display_data"
    }
   ],
   "source": [
    "ant_residuals = regress_out_covariates(\n",
    "    fc_ant,\n",
    "    math_ant[MATH_KEYS['gender'][0]], \n",
    "    math_ant[MATH_KEYS['grade'][0]]\n",
    "    )\n",
    "ant_residuals.shape"
   ]
  },
  {
   "cell_type": "code",
   "execution_count": null,
   "metadata": {},
   "outputs": [
    {
     "name": "stdout",
     "output_type": "stream",
     "text": [
      "(300, 35778) (300, 2)\n"
     ]
    },
    {
     "data": {
      "text/plain": [
       "(300, 35778)"
      ]
     },
     "metadata": {},
     "output_type": "display_data"
    }
   ],
   "source": [
    "bart_residuals = regress_out_covariates(\n",
    "    fc_bart,\n",
    "    math_bart[MATH_KEYS['gender'][0]],\n",
    "    math_bart[MATH_KEYS['grade'][0]]\n",
    "    )\n",
    "bart_residuals.shape"
   ]
  },
  {
   "cell_type": "code",
   "execution_count": null,
   "metadata": {},
   "outputs": [
    {
     "name": "stdout",
     "output_type": "stream",
     "text": [
      "(306, 35778) (306, 2)\n"
     ]
    },
    {
     "data": {
      "text/plain": [
       "(306, 35778)"
      ]
     },
     "metadata": {},
     "output_type": "display_data"
    }
   ],
   "source": [
    "em_residuals = regress_out_covariates(\n",
    "    fc_em,\n",
    "    math_em[MATH_KEYS['gender'][0]],\n",
    "    math_em[MATH_KEYS['grade'][0]]\n",
    "    )\n",
    "em_residuals.shape"
   ]
  },
  {
   "cell_type": "code",
   "execution_count": null,
   "metadata": {},
   "outputs": [
    {
     "name": "stdout",
     "output_type": "stream",
     "text": [
      "(309, 35778) (309, 2)\n"
     ]
    },
    {
     "data": {
      "text/plain": [
       "(309, 35778)"
      ]
     },
     "metadata": {},
     "output_type": "display_data"
    }
   ],
   "source": [
    "nb_residuals = regress_out_covariates(\n",
    "    fc_nb,\n",
    "    math_nb[MATH_KEYS['gender'][0]],\n",
    "    math_nb[MATH_KEYS['grade'][0]]\n",
    "    )\n",
    "nb_residuals.shape"
   ]
  },
  {
   "cell_type": "code",
   "execution_count": null,
   "metadata": {},
   "outputs": [],
   "source": [
    "# 保存\n",
    "ant_residuals.to_csv(os.path.join(fc_residual_data_folder, 'ant_residuals.csv'))\n",
    "bart_residuals.to_csv(os.path.join(fc_residual_data_folder, 'bart_residuals.csv'))\n",
    "em_residuals.to_csv(os.path.join(fc_residual_data_folder, 'em_residuals.csv'))\n",
    "nb_residuals.to_csv(os.path.join(fc_residual_data_folder, 'nb_residuals.csv'))"
   ]
  },
  {
   "cell_type": "markdown",
   "metadata": {},
   "source": [
    "##### 加载残差回归数据"
   ]
  },
  {
   "cell_type": "code",
   "execution_count": null,
   "metadata": {},
   "outputs": [],
   "source": [
    "math_files = get_files(math_data_url, 'mat')"
   ]
  },
  {
   "cell_type": "code",
   "execution_count": null,
   "metadata": {},
   "outputs": [],
   "source": [
    "# 加载残差回归数据\n",
    "ant_residuals = pd.read_csv(os.path.join(fc_residual_data_folder, 'ant_residuals.csv'), index_col=0)\n",
    "math_ant = load_mat(math_files[0], *MATH_KEYS['math'])\n",
    "math_ant = array2df(math_ant, columns=['math'])"
   ]
  },
  {
   "cell_type": "code",
   "execution_count": null,
   "metadata": {},
   "outputs": [
    {
     "data": {
      "text/plain": [
       "((256, 35778), (256, 1))"
      ]
     },
     "metadata": {},
     "output_type": "display_data"
    }
   ],
   "source": [
    "ant_residuals.shape, math_ant.shape"
   ]
  },
  {
   "cell_type": "markdown",
   "metadata": {},
   "source": [
    "##### 模型搭建"
   ]
  },
  {
   "cell_type": "code",
   "execution_count": null,
   "metadata": {},
   "outputs": [],
   "source": []
  },
  {
   "cell_type": "markdown",
   "metadata": {},
   "source": [
    "### 偏最小二乘法复现"
   ]
  },
  {
   "cell_type": "markdown",
   "metadata": {},
   "source": [
    "#### 库导入"
   ]
  },
  {
   "cell_type": "code",
   "execution_count": null,
   "metadata": {},
   "outputs": [],
   "source": [
    "import numpy as np\n",
    "import pandas as pd\n",
    "import statsmodels.api as sm\n",
    "from sklearn.model_selection import KFold, cross_val_score, train_test_split\n",
    "from sklearn.cross_decomposition import PLSRegression\n",
    "from sklearn.metrics import r2_score\n",
    "from tqdm.notebook import tqdm\n",
    "from copy import deepcopy"
   ]
  },
  {
   "cell_type": "markdown",
   "metadata": {},
   "source": [
    "#### Methods"
   ]
  },
  {
   "cell_type": "code",
   "execution_count": null,
   "metadata": {},
   "outputs": [],
   "source": [
    "def regress_out_covariates(data: np.array, *covariates) -> pd.DataFrame:\n",
    "    \"\"\"\n",
    "    Describe:\n",
    "        regress out covariates from data.\n",
    "    Input:\n",
    "        data: np.array\n",
    "        covariates: np.array\n",
    "    Output:\n",
    "        residuals: pd.DataFrame\n",
    "    \"\"\"\n",
    "\n",
    "    # 将fc_bart下三角阵展平并合并\n",
    "    lower_triangle_fc = merge_lower_triangle(data)\n",
    "    \n",
    "    # 合并协变量\n",
    "    cov = np.stack([covariate for covariate in covariates], axis=1).squeeze(-1)\n",
    "    cov = array2df(cov, columns=list(MATH_KEYS.keys())[-2:])\n",
    "    print(lower_triangle_fc.shape, cov.shape)\n",
    "\n",
    "    residuals = pd.DataFrame(index=lower_triangle_fc.index, columns=lower_triangle_fc.columns)\n",
    "    # 遍历每个下三角元素\n",
    "    for column in lower_triangle_fc.columns:\n",
    "        y = lower_triangle_fc[column]\n",
    "        X = sm.add_constant(cov)\n",
    "        model = sm.OLS(y, X).fit()\n",
    "        residuals[column] = model.resid\n",
    "    \n",
    "    return residuals"
   ]
  },
  {
   "cell_type": "code",
   "execution_count": null,
   "metadata": {},
   "outputs": [],
   "source": [
    "# 十折交叉验证\n",
    "def _10_fold_cv(model=None, X:pd.DataFrame=None, y:pd.DataFrame=None, n_splits:int=10,score_method:str='neg_mean_squared_error')->tuple:\n",
    "    \"\"\"\n",
    "    Describe:\n",
    "        10-fold cross validation.\n",
    "    Input:\n",
    "        model: sklearn model\n",
    "        X: pd.DataFrame\n",
    "        y: pd.DataFrame\n",
    "        n_splits: int\n",
    "        score_method: str\n",
    "    Output:\n",
    "        scores: list\n",
    "        mean_score: float\n",
    "        std_score: float\n",
    "    \"\"\"\n",
    "    if not model:\n",
    "        raise ValueError(\"model is required.\")\n",
    "    if X is None or y is None or X.empty or y.empty:\n",
    "        raise ValueError(\"X and y are required and cannot be empty.\")\n",
    "    \n",
    "    kf = KFold(n_splits=n_splits, shuffle=True, random_state=42)\n",
    "\n",
    "    # 计算交叉验证得分\n",
    "    cv_scores = cross_val_score(\n",
    "        model, \n",
    "        X, \n",
    "        y, \n",
    "        cv=kf, \n",
    "        scoring=score_method)\n",
    "    \n",
    "    return cv_scores, np.mean(cv_scores), np.std(cv_scores)\n",
    "    "
   ]
  },
  {
   "cell_type": "code",
   "execution_count": null,
   "metadata": {},
   "outputs": [],
   "source": [
    "# 训练模型\n",
    "def train_model(X:pd.DataFrame, y:pd.DataFrame, model=None, test_size:float=0.2, group_num:int=100):\n",
    "    \"\"\"\n",
    "    Describe:\n",
    "        train model.\n",
    "    Input:\n",
    "        X: pd.DataFrame\n",
    "        y: pd.DataFrame\n",
    "        model: sklearn model\n",
    "        test_size: float\n",
    "        group_num: int\n",
    "    Output:\n",
    "        models: list\n",
    "        mean_score: float\n",
    "        std_score: float\n",
    "    \"\"\"\n",
    "    if model is None:\n",
    "        raise ValueError(\"model is required.\")\n",
    "    if X is None or y is None or X.empty or y.empty:\n",
    "        raise ValueError(\"X and y are required and cannot be empty.\")\n",
    "    \n",
    "    models = []\n",
    "    r2_scores = []\n",
    "    for i in range(group_num):\n",
    "        model_copy = deepcopy(model)\n",
    "        # 划分训练集和测试集\n",
    "        X_train, X_test, y_train, y_test = train_test_split(X, y, test_size=test_size, random_state=i)\n",
    "\n",
    "        model_copy.fit(X_train, y_train)\n",
    "        # 计算测试集得分\n",
    "        r2_scores.append(r2_score(y_test, model_copy.predict(X_test)))\n",
    "        models.append(model_copy)\n",
    "    print(f\"mean r2 score: {np.mean(r2_scores)}, std r2 score: {np.std(r2_scores)}\")\n",
    "    \n",
    "    return models"
   ]
  },
  {
   "cell_type": "code",
   "execution_count": null,
   "metadata": {},
   "outputs": [],
   "source": [
    "# 多种组合训练模型并返回平均得分与标准差\n",
    "def group_train_cv_val(model, X:Union[pd.DataFrame|dict], y:Union[pd.DataFrame|dict], test_size:float=0.2, group_num:int=100, n_splits:int=10, score_method:str='neg_mean_squared_error')->Union[tuple|dict]:\n",
    "    \"\"\"\n",
    "    Describe:\n",
    "        多种组合训练模型并返回平均得分与标准差\n",
    "    Input:\n",
    "        model: sklearn model\n",
    "        X: pd.DataFrame or dict\n",
    "        y: pd.DataFrame or dict\n",
    "        test_size: float\n",
    "        group_num: int\n",
    "        n_splits: int\n",
    "        score_method: str\n",
    "    Output:\n",
    "        tuple(models, (mean_scores, std_scores), mean_score, std_score)\n",
    "         or \n",
    "        dict(key:(models, mean_temp, mean_score, std_score))\n",
    "    \"\"\"\n",
    "\n",
    "    if isinstance(X, pd.DataFrame) and isinstance(y, pd.DataFrame):\n",
    "        models = train_model(\n",
    "            X=X, \n",
    "            y=y, \n",
    "            model=model, \n",
    "            test_size=test_size, \n",
    "            group_num=group_num)\n",
    "        \n",
    "        mean_scores = []\n",
    "        std_scores = []\n",
    "        for model in tqdm(models):\n",
    "            scores, mean_score, std_score = _10_fold_cv(\n",
    "                model=model, \n",
    "                X=X, \n",
    "                y=y, \n",
    "                n_splits=n_splits,\n",
    "                score_method=score_method)\n",
    "            mean_scores.append(mean_score)\n",
    "            std_scores.append(std_score)\n",
    "\n",
    "        return (models, (mean_scores, std_scores), np.mean(mean_scores), np.std(mean_scores))\n",
    "    \n",
    "    elif isinstance(X, dict) and isinstance(y, dict):\n",
    "        scores = {key:[] for key in X.keys()}\n",
    "        print(f'total {len(X.keys())} groups to train.')\n",
    "\n",
    "        for key in X.keys():\n",
    "            models = train_model(\n",
    "                X=X[key], \n",
    "                y=y[key], \n",
    "                model=model, \n",
    "                test_size=0.2, \n",
    "                group_num=100)\n",
    "            \n",
    "            mean_temp = []\n",
    "            for model in tqdm(models):\n",
    "                scores, mean_score, std_score = _10_fold_cv(\n",
    "                    model=model, \n",
    "                    X=X[key], \n",
    "                    y=y[key], \n",
    "                    n_splits=10,\n",
    "                    score_method='neg_mean_squared_error')\n",
    "                mean_temp[key].append(mean_score)\n",
    "            \n",
    "            scores[key] = (models, mean_temp, np.mean(mean_temp), np.std(mean_temp))\n",
    "        \n",
    "        return scores\n",
    "\n",
    "    else:\n",
    "        raise ValueError(\"X and y should be both pd.DataFrame or dict.\")\n"
   ]
  },
  {
   "cell_type": "markdown",
   "metadata": {},
   "source": [
    "#### Pipline"
   ]
  },
  {
   "cell_type": "markdown",
   "metadata": {},
   "source": [
    "##### 加载原始数据"
   ]
  },
  {
   "cell_type": "code",
   "execution_count": null,
   "metadata": {},
   "outputs": [
    {
     "data": {
      "text/plain": [
       "(['.\\\\dataset\\\\fc_data\\\\FC_ant.mat',\n",
       "  '.\\\\dataset\\\\fc_data\\\\FC_bart.mat',\n",
       "  '.\\\\dataset\\\\fc_data\\\\FC_em.mat',\n",
       "  '.\\\\dataset\\\\fc_data\\\\FC_nb.mat'],\n",
       " ['.\\\\dataset\\\\math_data\\\\math_ant.mat',\n",
       "  '.\\\\dataset\\\\math_data\\\\math_bart.mat',\n",
       "  '.\\\\dataset\\\\math_data\\\\math_em.mat',\n",
       "  '.\\\\dataset\\\\math_data\\\\math_nb.mat'])"
      ]
     },
     "metadata": {},
     "output_type": "display_data"
    }
   ],
   "source": [
    "# 读取数据\n",
    "fc_files = get_files(fc_data_folder, 'mat')\n",
    "math_files = get_files(math_data_url, 'mat')\n",
    "fc_files, math_files"
   ]
  },
  {
   "cell_type": "code",
   "execution_count": null,
   "metadata": {},
   "outputs": [
    {
     "data": {
      "text/plain": [
       "((268, 268, 300), (300, 1), (300, 1), (300, 1))"
      ]
     },
     "metadata": {},
     "output_type": "display_data"
    }
   ],
   "source": [
    "fc_ant = load_mat(fc_files[0], *FC_KEYS)\n",
    "fc_bart = load_mat(fc_files[1], *FC_KEYS)\n",
    "fc_em = load_mat(fc_files[2], *FC_KEYS)\n",
    "fc_nb = load_mat(fc_files[3], *FC_KEYS)\n",
    "math_ant = load_mat(math_files[0])\n",
    "math_bart = load_mat(math_files[1])\n",
    "math_em = load_mat(math_files[2])\n",
    "math_nb = load_mat(math_files[3])\n",
    "gender_bart = load_mat(math_files[1], *MATH_KEYS['gender'])\n",
    "grade_bart = load_mat(math_files[1], *MATH_KEYS['grade'])\n",
    "fc_bart.shape, math_bart[MATH_KEYS['math'][0]].shape, gender_bart.shape, grade_bart.shape"
   ]
  },
  {
   "cell_type": "code",
   "execution_count": null,
   "metadata": {},
   "outputs": [
    {
     "data": {
      "text/plain": [
       "(array([1, 2], dtype=uint8), array([1, 2, 3, 4, 5, 6], dtype=uint8))"
      ]
     },
     "metadata": {},
     "output_type": "display_data"
    }
   ],
   "source": [
    "np.unique(gender_bart), np.unique(grade_bart)"
   ]
  },
  {
   "cell_type": "markdown",
   "metadata": {},
   "source": [
    "##### 年龄&性别的残差回归"
   ]
  },
  {
   "cell_type": "code",
   "execution_count": null,
   "metadata": {},
   "outputs": [
    {
     "name": "stdout",
     "output_type": "stream",
     "text": [
      "(256, 35778) (256, 2)\n"
     ]
    },
    {
     "data": {
      "text/plain": [
       "(256, 35778)"
      ]
     },
     "metadata": {},
     "output_type": "display_data"
    }
   ],
   "source": [
    "ant_residuals = regress_out_covariates(\n",
    "    fc_ant,\n",
    "    math_ant[MATH_KEYS['gender'][0]], \n",
    "    math_ant[MATH_KEYS['grade'][0]]\n",
    "    )\n",
    "ant_residuals.shape"
   ]
  },
  {
   "cell_type": "code",
   "execution_count": null,
   "metadata": {},
   "outputs": [
    {
     "name": "stdout",
     "output_type": "stream",
     "text": [
      "(300, 35778) (300, 2)\n"
     ]
    },
    {
     "data": {
      "text/plain": [
       "(300, 35778)"
      ]
     },
     "metadata": {},
     "output_type": "display_data"
    }
   ],
   "source": [
    "bart_residuals = regress_out_covariates(\n",
    "    fc_bart,\n",
    "    math_bart[MATH_KEYS['gender'][0]],\n",
    "    math_bart[MATH_KEYS['grade'][0]]\n",
    "    )\n",
    "bart_residuals.shape"
   ]
  },
  {
   "cell_type": "code",
   "execution_count": null,
   "metadata": {},
   "outputs": [
    {
     "name": "stdout",
     "output_type": "stream",
     "text": [
      "(306, 35778) (306, 2)\n"
     ]
    },
    {
     "data": {
      "text/plain": [
       "(306, 35778)"
      ]
     },
     "metadata": {},
     "output_type": "display_data"
    }
   ],
   "source": [
    "em_residuals = regress_out_covariates(\n",
    "    fc_em,\n",
    "    math_em[MATH_KEYS['gender'][0]],\n",
    "    math_em[MATH_KEYS['grade'][0]]\n",
    "    )\n",
    "em_residuals.shape"
   ]
  },
  {
   "cell_type": "code",
   "execution_count": null,
   "metadata": {},
   "outputs": [
    {
     "name": "stdout",
     "output_type": "stream",
     "text": [
      "(309, 35778) (309, 2)\n"
     ]
    },
    {
     "data": {
      "text/plain": [
       "(309, 35778)"
      ]
     },
     "metadata": {},
     "output_type": "display_data"
    }
   ],
   "source": [
    "nb_residuals = regress_out_covariates(\n",
    "    fc_nb,\n",
    "    math_nb[MATH_KEYS['gender'][0]],\n",
    "    math_nb[MATH_KEYS['grade'][0]]\n",
    "    )\n",
    "nb_residuals.shape"
   ]
  },
  {
   "cell_type": "code",
   "execution_count": null,
   "metadata": {},
   "outputs": [],
   "source": [
    "# 保存\n",
    "ant_residuals.to_csv(os.path.join(fc_residual_data_folder, 'ant_residuals.csv'))\n",
    "bart_residuals.to_csv(os.path.join(fc_residual_data_folder, 'bart_residuals.csv'))\n",
    "em_residuals.to_csv(os.path.join(fc_residual_data_folder, 'em_residuals.csv'))\n",
    "nb_residuals.to_csv(os.path.join(fc_residual_data_folder, 'nb_residuals.csv'))"
   ]
  },
  {
   "cell_type": "markdown",
   "metadata": {},
   "source": [
    "##### 加载残差回归数据"
   ]
  },
  {
   "cell_type": "code",
   "execution_count": null,
   "metadata": {},
   "outputs": [],
   "source": [
    "math_files = get_files(math_data_url, 'mat')"
   ]
  },
  {
   "cell_type": "code",
   "execution_count": null,
   "metadata": {},
   "outputs": [],
   "source": [
    "# 加载残差回归数据\n",
    "ant_residuals = pd.read_csv(os.path.join(fc_residual_data_folder, 'ant_residuals.csv'), index_col=0)\n",
    "math_ant = load_mat(math_files[0], *MATH_KEYS['math'])\n",
    "math_ant = array2df(math_ant, columns=['math'])"
   ]
  },
  {
   "cell_type": "code",
   "execution_count": null,
   "metadata": {},
   "outputs": [
    {
     "data": {
      "text/plain": [
       "((256, 35778), (256, 1))"
      ]
     },
     "metadata": {},
     "output_type": "display_data"
    }
   ],
   "source": [
    "ant_residuals.shape, math_ant.shape"
   ]
  },
  {
   "cell_type": "markdown",
   "metadata": {},
   "source": [
    "##### 模型构建"
   ]
  },
  {
   "cell_type": "code",
   "execution_count": null,
   "metadata": {},
   "outputs": [],
   "source": [
    "# 随机分组与模型拟合\n",
    "model = PLSRegression(\n",
    "    scale=True,\n",
    "    n_components=1,\n",
    "    max_iter=500,\n",
    "    tol=1e-06)\n",
    "\n",
    "scores, mean_scores, std_scores = group_train_cv_val(\n",
    "    model=model,\n",
    "    X=ant_residuals,\n",
    "    y=math_ant,\n",
    "    test_size=0.2,\n",
    "    group_num=10,\n",
    "    n_splits=10,\n",
    "    score_method='neg_mean_squared_error')"
   ]
  },
  {
   "cell_type": "code",
   "execution_count": null,
   "metadata": {},
   "outputs": [
    {
     "data": {
      "text/plain": [
       "(np.float64(-10221.967364056281), np.float64(2820.7172898591166))"
      ]
     },
     "metadata": {},
     "output_type": "display_data"
    }
   ],
   "source": [
    "mean_scores, std_scores"
   ]
  },
  {
   "cell_type": "code",
   "execution_count": null,
   "metadata": {},
   "outputs": [],
   "source": [
    "fc_files = get_files(fc_data_folder, 'mat')\n",
    "fc_ant = load_mat(fc_files[0], *FC_KEYS)\n",
    "fc_ant = merge_lower_triangle(fc_ant)"
   ]
  },
  {
   "cell_type": "code",
   "execution_count": null,
   "metadata": {},
   "outputs": [
    {
     "data": {
      "text/html": [
       "<div>\n",
       "<style scoped>\n",
       "    .dataframe tbody tr th:only-of-type {\n",
       "        vertical-align: middle;\n",
       "    }\n",
       "\n",
       "    .dataframe tbody tr th {\n",
       "        vertical-align: top;\n",
       "    }\n",
       "\n",
       "    .dataframe thead th {\n",
       "        text-align: right;\n",
       "    }\n",
       "</style>\n",
       "<table border=\"1\" class=\"dataframe\">\n",
       "  <thead>\n",
       "    <tr style=\"text-align: right;\">\n",
       "      <th></th>\n",
       "      <th>1-2</th>\n",
       "      <th>1-3</th>\n",
       "      <th>1-4</th>\n",
       "      <th>1-5</th>\n",
       "      <th>1-6</th>\n",
       "      <th>1-7</th>\n",
       "      <th>1-8</th>\n",
       "      <th>1-9</th>\n",
       "      <th>1-10</th>\n",
       "      <th>1-11</th>\n",
       "      <th>...</th>\n",
       "      <th>264-265</th>\n",
       "      <th>264-266</th>\n",
       "      <th>264-267</th>\n",
       "      <th>264-268</th>\n",
       "      <th>265-266</th>\n",
       "      <th>265-267</th>\n",
       "      <th>265-268</th>\n",
       "      <th>266-267</th>\n",
       "      <th>266-268</th>\n",
       "      <th>267-268</th>\n",
       "    </tr>\n",
       "  </thead>\n",
       "  <tbody>\n",
       "    <tr>\n",
       "      <th>count</th>\n",
       "      <td>256.000000</td>\n",
       "      <td>256.000000</td>\n",
       "      <td>256.000000</td>\n",
       "      <td>256.000000</td>\n",
       "      <td>256.000000</td>\n",
       "      <td>256.000000</td>\n",
       "      <td>256.000000</td>\n",
       "      <td>256.000000</td>\n",
       "      <td>256.000000</td>\n",
       "      <td>256.000000</td>\n",
       "      <td>...</td>\n",
       "      <td>256.000000</td>\n",
       "      <td>256.000000</td>\n",
       "      <td>256.000000</td>\n",
       "      <td>256.000000</td>\n",
       "      <td>256.000000</td>\n",
       "      <td>256.000000</td>\n",
       "      <td>256.000000</td>\n",
       "      <td>256.000000</td>\n",
       "      <td>256.000000</td>\n",
       "      <td>256.000000</td>\n",
       "    </tr>\n",
       "    <tr>\n",
       "      <th>mean</th>\n",
       "      <td>0.292838</td>\n",
       "      <td>0.426154</td>\n",
       "      <td>0.450657</td>\n",
       "      <td>0.381504</td>\n",
       "      <td>0.534675</td>\n",
       "      <td>0.678423</td>\n",
       "      <td>0.215733</td>\n",
       "      <td>0.293120</td>\n",
       "      <td>0.634749</td>\n",
       "      <td>0.209436</td>\n",
       "      <td>...</td>\n",
       "      <td>0.039232</td>\n",
       "      <td>-0.006337</td>\n",
       "      <td>0.048950</td>\n",
       "      <td>0.058516</td>\n",
       "      <td>0.136351</td>\n",
       "      <td>0.064361</td>\n",
       "      <td>0.096446</td>\n",
       "      <td>0.226042</td>\n",
       "      <td>0.027872</td>\n",
       "      <td>0.352441</td>\n",
       "    </tr>\n",
       "    <tr>\n",
       "      <th>std</th>\n",
       "      <td>0.226487</td>\n",
       "      <td>0.307573</td>\n",
       "      <td>0.263912</td>\n",
       "      <td>0.292511</td>\n",
       "      <td>0.286962</td>\n",
       "      <td>0.341854</td>\n",
       "      <td>0.270134</td>\n",
       "      <td>0.228848</td>\n",
       "      <td>0.225083</td>\n",
       "      <td>0.232355</td>\n",
       "      <td>...</td>\n",
       "      <td>0.166943</td>\n",
       "      <td>0.176891</td>\n",
       "      <td>0.156808</td>\n",
       "      <td>0.161346</td>\n",
       "      <td>0.196429</td>\n",
       "      <td>0.164907</td>\n",
       "      <td>0.146611</td>\n",
       "      <td>0.240522</td>\n",
       "      <td>0.219229</td>\n",
       "      <td>0.327272</td>\n",
       "    </tr>\n",
       "    <tr>\n",
       "      <th>min</th>\n",
       "      <td>-0.301424</td>\n",
       "      <td>-0.351987</td>\n",
       "      <td>-0.577463</td>\n",
       "      <td>-0.403935</td>\n",
       "      <td>-0.724798</td>\n",
       "      <td>-0.222454</td>\n",
       "      <td>-0.520368</td>\n",
       "      <td>-0.424092</td>\n",
       "      <td>-0.019182</td>\n",
       "      <td>-0.444747</td>\n",
       "      <td>...</td>\n",
       "      <td>-0.553430</td>\n",
       "      <td>-0.713758</td>\n",
       "      <td>-0.378082</td>\n",
       "      <td>-0.462282</td>\n",
       "      <td>-0.356949</td>\n",
       "      <td>-0.369085</td>\n",
       "      <td>-0.286499</td>\n",
       "      <td>-0.384575</td>\n",
       "      <td>-0.568708</td>\n",
       "      <td>-0.416696</td>\n",
       "    </tr>\n",
       "    <tr>\n",
       "      <th>25%</th>\n",
       "      <td>0.129477</td>\n",
       "      <td>0.206211</td>\n",
       "      <td>0.268122</td>\n",
       "      <td>0.175360</td>\n",
       "      <td>0.365085</td>\n",
       "      <td>0.451222</td>\n",
       "      <td>0.043586</td>\n",
       "      <td>0.152487</td>\n",
       "      <td>0.489819</td>\n",
       "      <td>0.066772</td>\n",
       "      <td>...</td>\n",
       "      <td>-0.081038</td>\n",
       "      <td>-0.115797</td>\n",
       "      <td>-0.061036</td>\n",
       "      <td>-0.046656</td>\n",
       "      <td>0.005031</td>\n",
       "      <td>-0.040049</td>\n",
       "      <td>-0.004253</td>\n",
       "      <td>0.062590</td>\n",
       "      <td>-0.118726</td>\n",
       "      <td>0.138631</td>\n",
       "    </tr>\n",
       "    <tr>\n",
       "      <th>50%</th>\n",
       "      <td>0.287018</td>\n",
       "      <td>0.418233</td>\n",
       "      <td>0.446205</td>\n",
       "      <td>0.382832</td>\n",
       "      <td>0.527856</td>\n",
       "      <td>0.661443</td>\n",
       "      <td>0.213212</td>\n",
       "      <td>0.302306</td>\n",
       "      <td>0.628648</td>\n",
       "      <td>0.198526</td>\n",
       "      <td>...</td>\n",
       "      <td>0.031677</td>\n",
       "      <td>-0.013185</td>\n",
       "      <td>0.038819</td>\n",
       "      <td>0.051683</td>\n",
       "      <td>0.126243</td>\n",
       "      <td>0.069507</td>\n",
       "      <td>0.093985</td>\n",
       "      <td>0.195080</td>\n",
       "      <td>0.018344</td>\n",
       "      <td>0.320184</td>\n",
       "    </tr>\n",
       "    <tr>\n",
       "      <th>75%</th>\n",
       "      <td>0.426991</td>\n",
       "      <td>0.625451</td>\n",
       "      <td>0.610605</td>\n",
       "      <td>0.566295</td>\n",
       "      <td>0.713620</td>\n",
       "      <td>0.893309</td>\n",
       "      <td>0.397909</td>\n",
       "      <td>0.444964</td>\n",
       "      <td>0.777207</td>\n",
       "      <td>0.350816</td>\n",
       "      <td>...</td>\n",
       "      <td>0.141423</td>\n",
       "      <td>0.108904</td>\n",
       "      <td>0.151503</td>\n",
       "      <td>0.158139</td>\n",
       "      <td>0.257596</td>\n",
       "      <td>0.168344</td>\n",
       "      <td>0.193534</td>\n",
       "      <td>0.366655</td>\n",
       "      <td>0.164810</td>\n",
       "      <td>0.538416</td>\n",
       "    </tr>\n",
       "    <tr>\n",
       "      <th>max</th>\n",
       "      <td>1.079350</td>\n",
       "      <td>1.362554</td>\n",
       "      <td>1.201256</td>\n",
       "      <td>1.164429</td>\n",
       "      <td>1.401525</td>\n",
       "      <td>1.682167</td>\n",
       "      <td>1.053875</td>\n",
       "      <td>0.961979</td>\n",
       "      <td>1.292353</td>\n",
       "      <td>0.948988</td>\n",
       "      <td>...</td>\n",
       "      <td>0.546976</td>\n",
       "      <td>0.538329</td>\n",
       "      <td>0.460712</td>\n",
       "      <td>0.562602</td>\n",
       "      <td>0.688873</td>\n",
       "      <td>0.489728</td>\n",
       "      <td>0.559962</td>\n",
       "      <td>1.056994</td>\n",
       "      <td>0.712827</td>\n",
       "      <td>1.465622</td>\n",
       "    </tr>\n",
       "  </tbody>\n",
       "</table>\n",
       "<p>8 rows × 35778 columns</p>\n",
       "</div>"
      ],
      "text/plain": [
       "              1-2         1-3         1-4         1-5         1-6         1-7  \\\n",
       "count  256.000000  256.000000  256.000000  256.000000  256.000000  256.000000   \n",
       "mean     0.292838    0.426154    0.450657    0.381504    0.534675    0.678423   \n",
       "std      0.226487    0.307573    0.263912    0.292511    0.286962    0.341854   \n",
       "min     -0.301424   -0.351987   -0.577463   -0.403935   -0.724798   -0.222454   \n",
       "25%      0.129477    0.206211    0.268122    0.175360    0.365085    0.451222   \n",
       "50%      0.287018    0.418233    0.446205    0.382832    0.527856    0.661443   \n",
       "75%      0.426991    0.625451    0.610605    0.566295    0.713620    0.893309   \n",
       "max      1.079350    1.362554    1.201256    1.164429    1.401525    1.682167   \n",
       "\n",
       "              1-8         1-9        1-10        1-11  ...     264-265  \\\n",
       "count  256.000000  256.000000  256.000000  256.000000  ...  256.000000   \n",
       "mean     0.215733    0.293120    0.634749    0.209436  ...    0.039232   \n",
       "std      0.270134    0.228848    0.225083    0.232355  ...    0.166943   \n",
       "min     -0.520368   -0.424092   -0.019182   -0.444747  ...   -0.553430   \n",
       "25%      0.043586    0.152487    0.489819    0.066772  ...   -0.081038   \n",
       "50%      0.213212    0.302306    0.628648    0.198526  ...    0.031677   \n",
       "75%      0.397909    0.444964    0.777207    0.350816  ...    0.141423   \n",
       "max      1.053875    0.961979    1.292353    0.948988  ...    0.546976   \n",
       "\n",
       "          264-266     264-267     264-268     265-266     265-267     265-268  \\\n",
       "count  256.000000  256.000000  256.000000  256.000000  256.000000  256.000000   \n",
       "mean    -0.006337    0.048950    0.058516    0.136351    0.064361    0.096446   \n",
       "std      0.176891    0.156808    0.161346    0.196429    0.164907    0.146611   \n",
       "min     -0.713758   -0.378082   -0.462282   -0.356949   -0.369085   -0.286499   \n",
       "25%     -0.115797   -0.061036   -0.046656    0.005031   -0.040049   -0.004253   \n",
       "50%     -0.013185    0.038819    0.051683    0.126243    0.069507    0.093985   \n",
       "75%      0.108904    0.151503    0.158139    0.257596    0.168344    0.193534   \n",
       "max      0.538329    0.460712    0.562602    0.688873    0.489728    0.559962   \n",
       "\n",
       "          266-267     266-268     267-268  \n",
       "count  256.000000  256.000000  256.000000  \n",
       "mean     0.226042    0.027872    0.352441  \n",
       "std      0.240522    0.219229    0.327272  \n",
       "min     -0.384575   -0.568708   -0.416696  \n",
       "25%      0.062590   -0.118726    0.138631  \n",
       "50%      0.195080    0.018344    0.320184  \n",
       "75%      0.366655    0.164810    0.538416  \n",
       "max      1.056994    0.712827    1.465622  \n",
       "\n",
       "[8 rows x 35778 columns]"
      ]
     },
     "metadata": {},
     "output_type": "display_data"
    }
   ],
   "source": [
    "fc_ant.describe()"
   ]
  },
  {
   "cell_type": "code",
   "execution_count": null,
   "metadata": {},
   "outputs": [
    {
     "data": {
      "application/vnd.jupyter.widget-view+json": {
       "model_id": "55d9206dd4d64191bfb71dd01663bb00",
       "version_major": 2,
       "version_minor": 0
      },
      "text/plain": [
       "  0%|          | 0/100 [00:00<?, ?it/s]"
      ]
     },
     "metadata": {},
     "output_type": "display_data"
    }
   ],
   "source": [
    "scores, mean_scores, std_scores = group_train_cv_val(\n",
    "    model=model,\n",
    "    X=fc_ant,\n",
    "    y=math_ant,\n",
    "    test_size=0.2,\n",
    "    group_num=100,\n",
    "    n_splits=10,\n",
    "    score_method='neg_mean_squared_error')"
   ]
  },
  {
   "cell_type": "code",
   "execution_count": null,
   "metadata": {},
   "outputs": [
    {
     "data": {
      "text/plain": [
       "(np.float64(-10213.892990217568), np.float64(1.8189894035458565e-12))"
      ]
     },
     "metadata": {},
     "output_type": "display_data"
    }
   ],
   "source": [
    "mean_scores, std_scores"
   ]
  },
  {
   "cell_type": "code",
   "execution_count": null,
   "metadata": {},
   "outputs": [],
   "source": []
  }
 ],
 "metadata": {
  "kernelspec": {
   "display_name": "Python 3",
   "language": "python",
   "name": "python3"
  },
  "language_info": {
   "codemirror_mode": {
    "name": "ipython",
    "version": 3
   },
   "file_extension": ".py",
   "mimetype": "text/x-python",
   "name": "python",
   "nbconvert_exporter": "python",
   "pygments_lexer": "ipython3",
   "version": "3.10.15"
  }
 },
 "nbformat": 4,
 "nbformat_minor": 2
}
